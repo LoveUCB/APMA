{
 "cells": [
  {
   "cell_type": "code",
   "execution_count": 3,
   "metadata": {},
   "outputs": [],
   "source": [
    "import matplotlib.pyplot as plt\n",
    "import numpy as np\n",
    "\n",
    "def plot_roc_curve(fpr, tpr, auc, filename):\n",
    "    \"\"\"\n",
    "    Plot ROC curve with improved aesthetics and transparent area under the curve.\n",
    "\n",
    "    Args:\n",
    "        fpr (list): List of false positive rates.\n",
    "        tpr (list): List of true positive rates.\n",
    "        auc (float): Area under the ROC curve.\n",
    "        filename (str): Name of the file to save the plot.\n",
    "    \"\"\"\n",
    "    plt.figure(figsize=(5, 5))\n",
    "    plt.plot(fpr, tpr, color='#1f77b4', lw=2, label='ROC curve (AUC = {:.2f})'.format(auc))\n",
    "    plt.fill_between(fpr, tpr, color='#1f77b4', alpha=0.2)  # Transparent fill under the curve\n",
    "    plt.plot([0, 1], [0, 1], color='gray', lw=1.5, linestyle='--', label='Random chance')\n",
    "    plt.xlim([0.0, 1.0])\n",
    "    plt.ylim([0.0, 1.05])\n",
    "    plt.xlabel('False Positive Rate', fontsize=10)\n",
    "    plt.ylabel('True Positive Rate', fontsize=10)\n",
    "    plt.title(filename.split('/')[-1])\n",
    "    plt.legend(loc=\"lower right\", fontsize=8)\n",
    "    plt.tight_layout()\n",
    "    plt.savefig(filename)\n",
    "    plt.close()\n",
    "\n",
    "# Sample data\n",
    "fpr = np.array([0.0, 0.1, 0.2, 0.3, 0.4, 0.5, 0.6, 0.7, 0.8, 0.9, 1.0])\n",
    "tpr = np.array([0.0, 0.4, 0.5, 0.7, 0.8, 0.85, 0.9, 0.93, 0.95, 0.98, 1.0])\n",
    "auc = 0.88\n",
    "filename = '../roc_curve_example.pdf'\n",
    "\n",
    "# Plotting the ROC curve\n",
    "plot_roc_curve(fpr, tpr, auc, filename)\n"
   ]
  },
  {
   "cell_type": "code",
   "execution_count": 2,
   "metadata": {},
   "outputs": [
    {
     "name": "stdout",
     "output_type": "stream",
     "text": [
      "...Generating feature roc plots...\n"
     ]
    }
   ],
   "source": [
    "from ML.figure import plot_roc_for_disease_pairs\n",
    "plot_roc_for_disease_pairs('data/paras.txt', '../')"
   ]
  },
  {
   "cell_type": "code",
   "execution_count": 5,
   "metadata": {},
   "outputs": [
    {
     "name": "stdout",
     "output_type": "stream",
     "text": [
      "examplep\n"
     ]
    }
   ],
   "source": [
    "filename = \"examplep.pdb\"\n",
    "# Remove the .pdb suffix\n",
    "filename_without_suffix = filename.removesuffix('.pdb')\n",
    "print(filename_without_suffix)"
   ]
  }
 ],
 "metadata": {
  "kernelspec": {
   "display_name": "PTEN",
   "language": "python",
   "name": "python3"
  },
  "language_info": {
   "codemirror_mode": {
    "name": "ipython",
    "version": 3
   },
   "file_extension": ".py",
   "mimetype": "text/x-python",
   "name": "python",
   "nbconvert_exporter": "python",
   "pygments_lexer": "ipython3",
   "version": "3.11.0"
  }
 },
 "nbformat": 4,
 "nbformat_minor": 2
}
