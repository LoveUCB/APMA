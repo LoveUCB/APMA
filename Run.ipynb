{
 "cells": [
  {
   "cell_type": "markdown",
   "id": "c9de0883ae4950cf",
   "metadata": {
    "collapsed": false
   },
   "source": [
    "# APMA\n",
    "![APMA diagram](Figure/APMA.png)\n",
    "- **Auto Protein Mutation Analyzer**\n",
    "- To install the dependency pacakge, please run the following code in your terminal\n",
    "```\n",
    "pip install .\n",
    "```\n",
    "- You should install R in you laptop and add R_Home in your environmental parameter\n",
    "```\n",
    "R_Home = your_route_to_R\n",
    "```\n",
    "- Install bio3d, igraph and NACEN package in your R\n",
    "```\n",
    "install.packages(\"bio3d\")\n",
    "```\n",
    "```\n",
    "install.pacakges(\"igraph\")\n",
    "```\n",
    "The NACEN website: http://sysbio.suda.edu.cn/NACEN\n",
    "\n",
    "- To start the analyzer, please run the following code, you should provide the following parameters\n",
    "\n",
    "| Parameter    | The description of parameter                 |\n",
    "| ------------ | -------------------------------------------- |\n",
    "| Protein_name | Your Protein Name, For example, pten         |\n",
    "| file_path    | Your route to your mutation description file |\n",
    "| FoldX        | Your route to route where contains FoldX     |\n",
    "| WT_PDB       | Your route to your wild type PDB             |\n",
    "| MSA_data     | Your route to the MSA file of your protein   |\n",
    "\n",
    "- The position file should be a txt and seperate lines with '\\t'\n",
    "Example: [position.txt](data/position.txt)\n"
   ]
  },
  {
   "cell_type": "code",
   "execution_count": 1,
   "id": "d9a6e8675d73d9e0",
   "metadata": {
    "collapsed": false
   },
   "outputs": [
    {
     "name": "stdout",
     "output_type": "stream",
     "text": [
      "==================================\n",
      "= Auto Protein Mutation Analyzer =\n",
      "==================================\n",
      "FoldX mutation PDB generating... "
     ]
    }
   ],
   "source": [
    "from APMA import APMA\n",
    "APMA(Protein_name = \"pten\",\n",
    "    file_path = \"C:/Users/33385/Desktop/data/position.txt\",\n",
    "    FoldX = \"C:/Users/33385/Desktop/FoldX\",\n",
    "    WT_PDB = \"C:/Users/33385/Desktop/data/alphafoldpten.pdb\",\n",
    "    MSA_data = \"C:/Users/33385/Desktop/data/query_msa.fasta\"\n",
    "    )"
   ]
  },
  {
   "cell_type": "markdown",
   "id": "53052a4f4be11ffc",
   "metadata": {
    "collapsed": false
   },
   "source": [
    "# Figure\n",
    "- The following code is intended to draw some basic figures\n",
    "- They should only be ran after the APMA process is done\n",
    "- type your route to get the figures"
   ]
  },
  {
   "cell_type": "code",
   "execution_count": 1,
   "id": "initial_id",
   "metadata": {
    "collapsed": true,
    "ExecuteTime": {
     "end_time": "2024-02-17T09:01:10.007015Z",
     "start_time": "2024-02-17T09:00:59.850845Z"
    }
   },
   "outputs": [
    {
     "name": "stdout",
     "output_type": "stream",
     "text": [
      "ROC plots generated\n",
      "Boxplot generated\n",
      "Spearman correlation plot generated\n",
      "saving bar chart... Done\n"
     ]
    }
   ],
   "source": [
    "from ML.figure import plot_roc_for_disease_pairs\n",
    "plot_roc_for_disease_pairs(\"data/paras.txt\",\"/Users/wangjingran/Desktop/APMA_Fig\")\n",
    "\n",
    "from ML.figure import plot_box\n",
    "plot_box(\"data/paras.txt\",\"/Users/wangjingran/Desktop/APMA_Fig\")\n",
    "\n",
    "from ML.figure import plot_spearman\n",
    "plot_spearman(\"data/paras.txt\",\"/Users/wangjingran/Desktop/APMA_Fig\")\n",
    "\n",
    "from ML.figure import plot_importence_bar\n",
    "plot_importence_bar(\"data/paras.txt\", \"/Users/wangjingran/Desktop/APMA_Fig\")"
   ]
  },
  {
   "cell_type": "markdown",
   "id": "390b9a22dc8e8eca",
   "metadata": {
    "collapsed": false
   },
   "source": [
    "> Developed by Spencer Wang \n",
    "> 2024.2"
   ]
  }
 ],
 "metadata": {
  "kernelspec": {
   "display_name": "Python 3",
   "language": "python",
   "name": "python3"
  },
  "language_info": {
   "codemirror_mode": {
    "name": "ipython",
    "version": 3
   },
   "file_extension": ".py",
   "mimetype": "text/x-python",
   "name": "python",
   "nbconvert_exporter": "python",
   "pygments_lexer": "ipython3",
   "version": "3.10.13"
  }
 },
 "nbformat": 4,
 "nbformat_minor": 5
}
