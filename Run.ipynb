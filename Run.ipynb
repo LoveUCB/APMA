{
 "cells": [
  {
   "cell_type": "markdown",
   "source": [
    "# APMA\n",
    "- **Auto Protein Mutation Analyzer**\n",
    "- To install the dependency pacakge, please run the following code in your terminal\n",
    "```\n",
    "pip install .\n",
    "```\n",
    "- To start the analyzer, please run the following code, you should provide the following parameters\n",
    "\n",
    "| Parameter    | The description of parameter                 |\n",
    "| ------------ | -------------------------------------------- |\n",
    "| Protein_name | Your Protein Name, For example, pten         |\n",
    "| file_path    | Your route to your mutation description file |\n",
    "| FoldX        | Your route to route where contains FoldX     |\n",
    "| WT_PDB       | Your route to your wild type PDB             |\n",
    "| MSA_data     | Your route to the MSA file of your protein   |"
   ],
   "metadata": {
    "collapsed": false
   },
   "id": "c9de0883ae4950cf"
  },
  {
   "cell_type": "code",
   "outputs": [],
   "source": [
    "from APMA import APMA\n",
    "APMA()"
   ],
   "metadata": {
    "collapsed": false
   },
   "id": "d9a6e8675d73d9e0",
   "execution_count": null
  },
  {
   "cell_type": "markdown",
   "source": [
    "# Figure\n",
    "- The following code is intended to draw some basic figures\n",
    "- They should only be ran after the APMA process is done\n",
    "- type your route to get the figures"
   ],
   "metadata": {
    "collapsed": false
   },
   "id": "53052a4f4be11ffc"
  },
  {
   "cell_type": "code",
   "execution_count": null,
   "id": "initial_id",
   "metadata": {
    "collapsed": true
   },
   "outputs": [],
   "source": [
    "from ML.figure import plot_roc_for_disease_pairs\n",
    "plot_roc_for_disease_pairs(\"data/paras.txt\",\"Your route to Figure Folder\")\n",
    "\n",
    "from ML.figure import plot_box\n",
    "plot_box(\"data/paras.txt\",\"Your route to Figure Folder\")\n",
    "\n",
    "from ML.figure import plot_spearman\n",
    "plot_spearman(\"data/paras.txt\",\"Your route to Figure Folder\")\n",
    "\n",
    "from ML.figure import plot_importence_bar\n",
    "plot_importence_bar(\"data/paras.txt\", \"Your route to Figure Folder\")"
   ]
  },
  {
   "cell_type": "markdown",
   "source": [
    "> Developed by Spencer Wang \n",
    "> 2024.2"
   ],
   "metadata": {
    "collapsed": false
   },
   "id": "390b9a22dc8e8eca"
  }
 ],
 "metadata": {
  "kernelspec": {
   "display_name": "Python 3",
   "language": "python",
   "name": "python3"
  },
  "language_info": {
   "codemirror_mode": {
    "name": "ipython",
    "version": 2
   },
   "file_extension": ".py",
   "mimetype": "text/x-python",
   "name": "python",
   "nbconvert_exporter": "python",
   "pygments_lexer": "ipython2",
   "version": "2.7.6"
  }
 },
 "nbformat": 4,
 "nbformat_minor": 5
}
