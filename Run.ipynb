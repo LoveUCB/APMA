{
 "cells": [
  {
   "cell_type": "markdown",
   "source": [
    "# APMA"
   ],
   "metadata": {
    "collapsed": false
   },
   "id": "c9de0883ae4950cf"
  },
  {
   "cell_type": "code",
   "outputs": [],
   "source": [
    "from APMA import APMA\n",
    "APMA()"
   ],
   "metadata": {
    "collapsed": false
   },
   "id": "d9a6e8675d73d9e0",
   "execution_count": null
  },
  {
   "cell_type": "markdown",
   "source": [
    "# Figure"
   ],
   "metadata": {
    "collapsed": false
   },
   "id": "53052a4f4be11ffc"
  },
  {
   "cell_type": "code",
   "execution_count": null,
   "id": "initial_id",
   "metadata": {
    "collapsed": true
   },
   "outputs": [],
   "source": [
    "from ML.figure import plot_roc_for_disease_pairs\n",
    "plot_roc_for_disease_pairs(\"data/paras.txt\",\"C:/Users/33385/Desktop/Figure/Feature_ROC\")\n",
    "\n",
    "from ML.figure import plot_box\n",
    "plot_box(\"data/paras.txt\",\"C:/Users/33385/Desktop/Figure/Feature_Box\")\n",
    "\n",
    "from ML.figure import plot_spearman\n",
    "plot_spearman(\"data/paras.txt\",\"C:/Users/33385/Desktop/Figure\")"
   ]
  }
 ],
 "metadata": {
  "kernelspec": {
   "display_name": "Python 3",
   "language": "python",
   "name": "python3"
  },
  "language_info": {
   "codemirror_mode": {
    "name": "ipython",
    "version": 2
   },
   "file_extension": ".py",
   "mimetype": "text/x-python",
   "name": "python",
   "nbconvert_exporter": "python",
   "pygments_lexer": "ipython2",
   "version": "2.7.6"
  }
 },
 "nbformat": 4,
 "nbformat_minor": 5
}
